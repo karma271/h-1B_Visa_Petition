{
 "cells": [
  {
   "cell_type": "markdown",
   "metadata": {},
   "source": [
    "# H-1B Visa Petition\n",
    "## 02:Preprocessing"
   ]
  },
  {
   "cell_type": "markdown",
   "metadata": {},
   "source": [
    "**Author:** Prasoon Karmacharya"
   ]
  },
  {
   "cell_type": "code",
   "execution_count": 1,
   "metadata": {},
   "outputs": [],
   "source": [
    "import pandas as pd\n",
    "import matplotlib.pyplot as plt\n",
    "import numpy as np\n",
    "import seaborn as sns\n",
    "\n",
    "from sklearn.model_selection import train_test_split, cross_val_score, RepeatedStratifiedKFold\n",
    "from sklearn.linear_model import LogisticRegression\n",
    "from sklearn.ensemble import RandomForestClassifier\n",
    "from sklearn.metrics import classification_report\n",
    "\n",
    "from imblearn.pipeline import  Pipeline\n",
    "from imblearn.over_sampling import SMOTE\n",
    "from imblearn.under_sampling import RandomUnderSampler\n",
    "\n",
    "RANDOM_STATE = 42"
   ]
  },
  {
   "cell_type": "code",
   "execution_count": 2,
   "metadata": {},
   "outputs": [],
   "source": [
    "data = pd.read_csv(\"../assets/data/893_1632_bundle_archive.zip\")"
   ]
  },
  {
   "cell_type": "code",
   "execution_count": 3,
   "metadata": {},
   "outputs": [],
   "source": [
    "df = data.copy()"
   ]
  },
  {
   "cell_type": "markdown",
   "metadata": {},
   "source": [
    "### Data Dictionary\n",
    "* CASE_STATUS - status of the application\n",
    "* EMPLOYER_NAME - the name of the employer as registered in the H-1B Visa application\n",
    "* SOC_NAME - the occupation code for the employment\n",
    "* JOB_TITLE - the job title for the employment\n",
    "* FULL_TIME_POSITION - whether the application is for a full-time position of for a part-time position\n",
    "* PREVAILING_WAGE - the most frequent wage for the corresponding role as filled in the Visa application\n",
    "* YEAR - the application year\n",
    "* WORKSITE - the address of the employer worksite\n",
    "* lon - longitude of the employer worksite\n",
    "* lat - latitude of the employer worksite"
   ]
  },
  {
   "cell_type": "code",
   "execution_count": 4,
   "metadata": {},
   "outputs": [
    {
     "data": {
      "text/plain": [
       "Unnamed: 0                 0\n",
       "CASE_STATUS               13\n",
       "EMPLOYER_NAME             59\n",
       "SOC_NAME               17734\n",
       "JOB_TITLE                 43\n",
       "FULL_TIME_POSITION        15\n",
       "PREVAILING_WAGE           85\n",
       "YEAR                      13\n",
       "WORKSITE                   0\n",
       "lon                   107242\n",
       "lat                   107242\n",
       "dtype: int64"
      ]
     },
     "execution_count": 4,
     "metadata": {},
     "output_type": "execute_result"
    }
   ],
   "source": [
    "df.isnull().sum()"
   ]
  },
  {
   "cell_type": "code",
   "execution_count": 5,
   "metadata": {},
   "outputs": [
    {
     "data": {
      "text/plain": [
       "CERTIFIED                                             8.711643e-01\n",
       "CERTIFIED-WITHDRAWN                                   6.749799e-02\n",
       "DENIED                                                3.142306e-02\n",
       "WITHDRAWN                                             2.990862e-02\n",
       "PENDING QUALITY AND COMPLIANCE REVIEW - UNASSIGNED    4.995928e-06\n",
       "REJECTED                                              6.661238e-07\n",
       "INVALIDATED                                           3.330619e-07\n",
       "Name: CASE_STATUS, dtype: float64"
      ]
     },
     "execution_count": 5,
     "metadata": {},
     "output_type": "execute_result"
    }
   ],
   "source": [
    "df.CASE_STATUS.value_counts(normalize=True)"
   ]
  },
  {
   "cell_type": "markdown",
   "metadata": {},
   "source": [
    "* Remove columns"
   ]
  },
  {
   "cell_type": "code",
   "execution_count": 6,
   "metadata": {},
   "outputs": [],
   "source": [
    "columns_to_drop = [\"Unnamed: 0\", \"lon\", \"lat\"]\n",
    "df.drop(columns=columns_to_drop, inplace=True)"
   ]
  },
  {
   "cell_type": "markdown",
   "metadata": {},
   "source": [
    "### Prepare Target Labels\n",
    "* Remove WITHDRAWN, PENDING QUALITY AND COMPLIANCE REVIEW - UNASSIGNED, REJECTED, INVALIDATED\n",
    "* Binarize CERTIFIED (1), DENIED (0)"
   ]
  },
  {
   "cell_type": "code",
   "execution_count": 7,
   "metadata": {},
   "outputs": [],
   "source": [
    "df.drop(df.loc[(df[\"CASE_STATUS\"]==\"WITHDRAWN\")|(df[\"CASE_STATUS\"]==\"PENDING QUALITY AND COMPLIANCE REVIEW - UNASSIGNED\")|(df[\"CASE_STATUS\"]==\"INVALIDATED\")].index, inplace=True)"
   ]
  },
  {
   "cell_type": "markdown",
   "metadata": {},
   "source": [
    "* Removing records with missing CASE_STATUS"
   ]
  },
  {
   "cell_type": "code",
   "execution_count": 8,
   "metadata": {},
   "outputs": [],
   "source": [
    "null_columns=df.columns[df.isnull().any()]\n",
    "df.drop(df[df[\"CASE_STATUS\"].isnull()][null_columns].index,inplace=True)"
   ]
  },
  {
   "cell_type": "markdown",
   "metadata": {},
   "source": [
    "* Create binary column CERTIFIED:1, CERTIFIED-WITHDRAWN:1, DENIED:0, REJECTED\":0"
   ]
  },
  {
   "cell_type": "code",
   "execution_count": 9,
   "metadata": {},
   "outputs": [],
   "source": [
    "df[\"CASE_STATUS\"] = df[\"CASE_STATUS\"].map({\"CERTIFIED\":1, \n",
    "                                           \"CERTIFIED-WITHDRAWN\":1, \n",
    "                                           \"DENIED\":0, \n",
    "                                           \"REJECTED\":0})"
   ]
  },
  {
   "cell_type": "markdown",
   "metadata": {},
   "source": [
    "* Remove instance with missing employer name"
   ]
  },
  {
   "cell_type": "code",
   "execution_count": 10,
   "metadata": {},
   "outputs": [],
   "source": [
    "df.drop(df[df[\"EMPLOYER_NAME\"].isnull()][null_columns].index,inplace=True)"
   ]
  },
  {
   "cell_type": "code",
   "execution_count": 11,
   "metadata": {},
   "outputs": [
    {
     "data": {
      "text/plain": [
       "CASE_STATUS               0\n",
       "EMPLOYER_NAME             0\n",
       "SOC_NAME              17072\n",
       "JOB_TITLE                10\n",
       "FULL_TIME_POSITION        1\n",
       "PREVAILING_WAGE          53\n",
       "YEAR                      0\n",
       "WORKSITE                  0\n",
       "dtype: int64"
      ]
     },
     "execution_count": 11,
     "metadata": {},
     "output_type": "execute_result"
    }
   ],
   "source": [
    "df.isna().sum()"
   ]
  },
  {
   "cell_type": "markdown",
   "metadata": {},
   "source": [
    "* There was one instance where a case was denied and FULL_TIME_POSITION had missing value, based on other information for this information, I decided to impute the missing value with \"Y\""
   ]
  },
  {
   "cell_type": "code",
   "execution_count": 12,
   "metadata": {},
   "outputs": [],
   "source": [
    "df.loc[(df[\"CASE_STATUS\"]==0) & df[\"FULL_TIME_POSITION\"].isnull(), \"FULL_TIME_POSITION\"] = \"Y\""
   ]
  },
  {
   "cell_type": "code",
   "execution_count": 13,
   "metadata": {},
   "outputs": [
    {
     "data": {
      "text/plain": [
       "CASE_STATUS               0\n",
       "EMPLOYER_NAME             0\n",
       "SOC_NAME              17072\n",
       "JOB_TITLE                10\n",
       "FULL_TIME_POSITION        0\n",
       "PREVAILING_WAGE          53\n",
       "YEAR                      0\n",
       "WORKSITE                  0\n",
       "dtype: int64"
      ]
     },
     "execution_count": 13,
     "metadata": {},
     "output_type": "execute_result"
    }
   ],
   "source": [
    "df.isnull().sum()"
   ]
  },
  {
   "cell_type": "markdown",
   "metadata": {},
   "source": [
    "* Imputing prevailing wage with mean prevailing wage if the case was denied."
   ]
  },
  {
   "cell_type": "code",
   "execution_count": 14,
   "metadata": {},
   "outputs": [],
   "source": [
    "df.loc[(df[\"CASE_STATUS\"]==0) & df[\"PREVAILING_WAGE\"].isnull(), \"PREVAILING_WAGE\"] = df[\"PREVAILING_WAGE\"].mean()"
   ]
  },
  {
   "cell_type": "code",
   "execution_count": 15,
   "metadata": {},
   "outputs": [
    {
     "data": {
      "text/plain": [
       "CASE_STATUS               0\n",
       "EMPLOYER_NAME             0\n",
       "SOC_NAME              17072\n",
       "JOB_TITLE                10\n",
       "FULL_TIME_POSITION        0\n",
       "PREVAILING_WAGE           0\n",
       "YEAR                      0\n",
       "WORKSITE                  0\n",
       "dtype: int64"
      ]
     },
     "execution_count": 15,
     "metadata": {},
     "output_type": "execute_result"
    }
   ],
   "source": [
    "df.isnull().sum()"
   ]
  },
  {
   "cell_type": "markdown",
   "metadata": {},
   "source": [
    "* Imputing JOB_TITLE\n",
    "    * If SOC_NAME and JOB_TITLE is missing \n",
    "        * then drop the row\n",
    "    * else \n",
    "        * JOB_TITLE imputed with SOC_NAME\n",
    "    "
   ]
  },
  {
   "cell_type": "code",
   "execution_count": 16,
   "metadata": {},
   "outputs": [],
   "source": [
    "df.drop(df.loc[(df[\"CASE_STATUS\"]==0) & df[\"JOB_TITLE\"].isnull() & df[\"SOC_NAME\"].isnull()].index, inplace=True)"
   ]
  },
  {
   "cell_type": "code",
   "execution_count": 17,
   "metadata": {},
   "outputs": [],
   "source": [
    "df.loc[(df[\"CASE_STATUS\"]==0) & df[\"JOB_TITLE\"].isnull(), \"JOB_TITLE\"] = df[\"SOC_NAME\"]"
   ]
  },
  {
   "cell_type": "code",
   "execution_count": 18,
   "metadata": {},
   "outputs": [
    {
     "data": {
      "text/plain": [
       "CASE_STATUS               0\n",
       "EMPLOYER_NAME             0\n",
       "SOC_NAME              17068\n",
       "JOB_TITLE                 3\n",
       "FULL_TIME_POSITION        0\n",
       "PREVAILING_WAGE           0\n",
       "YEAR                      0\n",
       "WORKSITE                  0\n",
       "dtype: int64"
      ]
     },
     "execution_count": 18,
     "metadata": {},
     "output_type": "execute_result"
    }
   ],
   "source": [
    "df.isnull().sum()"
   ]
  },
  {
   "cell_type": "markdown",
   "metadata": {},
   "source": [
    "### Imputing SOC_NAME\n",
    "    * If CASE_STATUS == 1 and SOC_NAME is missing \n",
    "        * then drop the row\n",
    "    * else \n",
    "        * SOC_NAME imputed with JOB_TITLE"
   ]
  },
  {
   "cell_type": "code",
   "execution_count": 19,
   "metadata": {},
   "outputs": [],
   "source": [
    "df.drop(df.loc[(df[\"CASE_STATUS\"]==1) & df[\"SOC_NAME\"].isnull()].index, inplace=True)"
   ]
  },
  {
   "cell_type": "code",
   "execution_count": 20,
   "metadata": {},
   "outputs": [],
   "source": [
    "df.loc[(df[\"CASE_STATUS\"]==0) & df[\"SOC_NAME\"].isnull(), \"SOC_NAME\"] = df[\"JOB_TITLE\"]"
   ]
  },
  {
   "cell_type": "code",
   "execution_count": 21,
   "metadata": {},
   "outputs": [
    {
     "data": {
      "text/plain": [
       "CASE_STATUS           0\n",
       "EMPLOYER_NAME         0\n",
       "SOC_NAME              0\n",
       "JOB_TITLE             2\n",
       "FULL_TIME_POSITION    0\n",
       "PREVAILING_WAGE       0\n",
       "YEAR                  0\n",
       "WORKSITE              0\n",
       "dtype: int64"
      ]
     },
     "execution_count": 21,
     "metadata": {},
     "output_type": "execute_result"
    }
   ],
   "source": [
    "df.isnull().sum()"
   ]
  },
  {
   "cell_type": "markdown",
   "metadata": {},
   "source": [
    "### Imputing JOB_TITLE\n",
    "    * If CASE_STATUS == 1 and JOB_TITLE is missing \n",
    "        * then drop the row\n",
    "    * else \n",
    "        * JOB_TITLE imputed with SOC_NAME"
   ]
  },
  {
   "cell_type": "code",
   "execution_count": 22,
   "metadata": {},
   "outputs": [],
   "source": [
    "df.drop(df.loc[(df[\"CASE_STATUS\"]==1) & df[\"JOB_TITLE\"].isnull()].index, inplace=True)"
   ]
  },
  {
   "cell_type": "code",
   "execution_count": 23,
   "metadata": {},
   "outputs": [],
   "source": [
    "df.loc[(df[\"CASE_STATUS\"]==0) & df[\"JOB_TITLE\"].isnull(), \"JOB_TITLE\"] = df[\"SOC_NAME\"]"
   ]
  },
  {
   "cell_type": "code",
   "execution_count": 24,
   "metadata": {},
   "outputs": [
    {
     "data": {
      "text/plain": [
       "CASE_STATUS           0\n",
       "EMPLOYER_NAME         0\n",
       "SOC_NAME              0\n",
       "JOB_TITLE             0\n",
       "FULL_TIME_POSITION    0\n",
       "PREVAILING_WAGE       0\n",
       "YEAR                  0\n",
       "WORKSITE              0\n",
       "dtype: int64"
      ]
     },
     "execution_count": 24,
     "metadata": {},
     "output_type": "execute_result"
    }
   ],
   "source": [
    "df.isnull().sum()"
   ]
  },
  {
   "cell_type": "code",
   "execution_count": 25,
   "metadata": {
    "tags": []
   },
   "outputs": [
    {
     "name": "stdout",
     "output_type": "stream",
     "text": [
      "Percentage of data removed from the original dataframe: 3.54 %\n"
     ]
    }
   ],
   "source": [
    "print(f\"Percentage of data removed from the original dataframe: {round(((data.shape[0] - df.shape[0])/data.shape[0])*100, 2)} %\")"
   ]
  },
  {
   "cell_type": "code",
   "execution_count": 26,
   "metadata": {},
   "outputs": [
    {
     "data": {
      "text/plain": [
       "1    0.967426\n",
       "0    0.032574\n",
       "Name: CASE_STATUS, dtype: float64"
      ]
     },
     "execution_count": 26,
     "metadata": {},
     "output_type": "execute_result"
    }
   ],
   "source": [
    "df.CASE_STATUS.value_counts(normalize=True)"
   ]
  },
  {
   "cell_type": "markdown",
   "metadata": {},
   "source": [
    "### Feature Engineering"
   ]
  },
  {
   "cell_type": "markdown",
   "metadata": {},
   "source": [
    "* Binarizing FULL_TIME_POSITION"
   ]
  },
  {
   "cell_type": "code",
   "execution_count": 27,
   "metadata": {},
   "outputs": [],
   "source": [
    "df[\"FULL_TIME_POSITION\"] = df[\"FULL_TIME_POSITION\"].map({\"Y\": 1, \"N\": 0}).astype(int)"
   ]
  },
  {
   "cell_type": "code",
   "execution_count": 28,
   "metadata": {},
   "outputs": [
    {
     "data": {
      "text/plain": [
       "CASE_STATUS             int64\n",
       "EMPLOYER_NAME          object\n",
       "SOC_NAME               object\n",
       "JOB_TITLE              object\n",
       "FULL_TIME_POSITION      int64\n",
       "PREVAILING_WAGE       float64\n",
       "YEAR                  float64\n",
       "WORKSITE               object\n",
       "dtype: object"
      ]
     },
     "execution_count": 28,
     "metadata": {},
     "output_type": "execute_result"
    }
   ],
   "source": [
    "df.dtypes"
   ]
  },
  {
   "cell_type": "markdown",
   "metadata": {},
   "source": [
    "* Label Encoding Year column"
   ]
  },
  {
   "cell_type": "code",
   "execution_count": 29,
   "metadata": {},
   "outputs": [],
   "source": [
    "from sklearn.preprocessing import LabelEncoder"
   ]
  },
  {
   "cell_type": "code",
   "execution_count": 30,
   "metadata": {},
   "outputs": [
    {
     "data": {
      "text/html": [
       "<div>\n",
       "<style scoped>\n",
       "    .dataframe tbody tr th:only-of-type {\n",
       "        vertical-align: middle;\n",
       "    }\n",
       "\n",
       "    .dataframe tbody tr th {\n",
       "        vertical-align: top;\n",
       "    }\n",
       "\n",
       "    .dataframe thead th {\n",
       "        text-align: right;\n",
       "    }\n",
       "</style>\n",
       "<table border=\"1\" class=\"dataframe\">\n",
       "  <thead>\n",
       "    <tr style=\"text-align: right;\">\n",
       "      <th></th>\n",
       "      <th>SOC_NAME</th>\n",
       "      <th>SOC_NAME_coded</th>\n",
       "    </tr>\n",
       "  </thead>\n",
       "  <tbody>\n",
       "    <tr>\n",
       "      <th>3002369</th>\n",
       "      <td>Instructional Coordinators</td>\n",
       "      <td>1269</td>\n",
       "    </tr>\n",
       "    <tr>\n",
       "      <th>3002378</th>\n",
       "      <td>Accountants and Auditors</td>\n",
       "      <td>112</td>\n",
       "    </tr>\n",
       "    <tr>\n",
       "      <th>3002383</th>\n",
       "      <td>Computer Programmers</td>\n",
       "      <td>572</td>\n",
       "    </tr>\n",
       "    <tr>\n",
       "      <th>3002389</th>\n",
       "      <td>Sales Engineers</td>\n",
       "      <td>2209</td>\n",
       "    </tr>\n",
       "    <tr>\n",
       "      <th>3002392</th>\n",
       "      <td>Architectural and Civil Drafters</td>\n",
       "      <td>157</td>\n",
       "    </tr>\n",
       "  </tbody>\n",
       "</table>\n",
       "</div>"
      ],
      "text/plain": [
       "                                 SOC_NAME  SOC_NAME_coded\n",
       "3002369        Instructional Coordinators            1269\n",
       "3002378          Accountants and Auditors             112\n",
       "3002383              Computer Programmers             572\n",
       "3002389                   Sales Engineers            2209\n",
       "3002392  Architectural and Civil Drafters             157"
      ]
     },
     "execution_count": 30,
     "metadata": {},
     "output_type": "execute_result"
    }
   ],
   "source": [
    "le = LabelEncoder()\n",
    "df[\"YEAR_coded\"] = le.fit_transform(df[\"YEAR\"])\n",
    "df[[\"YEAR\", \"YEAR_coded\"]].tail(5)\n",
    "\n",
    "df[\"SOC_NAME_coded\"] = le.fit_transform(df[\"SOC_NAME\"])\n",
    "df[[\"SOC_NAME\", \"SOC_NAME_coded\"]].tail(5)\n"
   ]
  },
  {
   "cell_type": "markdown",
   "metadata": {},
   "source": [
    "### Export Cleaned Data"
   ]
  },
  {
   "cell_type": "code",
   "execution_count": 31,
   "metadata": {},
   "outputs": [],
   "source": [
    "df.to_pickle(\"../assets/data/cleaned_h1b.pkl\")"
   ]
  },
  {
   "cell_type": "markdown",
   "metadata": {},
   "source": [
    "### Feature Selection"
   ]
  },
  {
   "cell_type": "code",
   "execution_count": 34,
   "metadata": {},
   "outputs": [],
   "source": [
    "feature_cols = ['FULL_TIME_POSITION', 'PREVAILING_WAGE', 'YEAR_coded', 'SOC_NAME_coded']\n",
    "target_col = ['CASE_STATUS']"
   ]
  },
  {
   "cell_type": "code",
   "execution_count": 35,
   "metadata": {},
   "outputs": [
    {
     "data": {
      "image/png": "[encoded data removed]",
      "text/plain": [
       "<Figure size 864x720 with 2 Axes>"
      ]
     },
     "metadata": {
      "needs_background": "light"
     },
     "output_type": "display_data"
    }
   ],
   "source": [
    "plt.figure(figsize=(12,10))\n",
    "sns.heatmap(df[feature_cols + target_col].corr(), annot=True, annot_kws={'size' : 15});\n"
   ]
  },
  {
   "cell_type": "code",
   "execution_count": null,
   "metadata": {},
   "outputs": [],
   "source": []
  },
  {
   "cell_type": "code",
   "execution_count": null,
   "metadata": {},
   "outputs": [],
   "source": []
  }
 ],
 "metadata": {
  "kernelspec": {
   "display_name": "Python 3",
   "language": "python",
   "name": "python3"
  },
  "language_info": {
   "codemirror_mode": {
    "name": "ipython",
    "version": 3
   },
   "file_extension": ".py",
   "mimetype": "text/x-python",
   "name": "python",
   "nbconvert_exporter": "python",
   "pygments_lexer": "ipython3",
   "version": "3.7.4"
  }
 },
 "nbformat": 4,
 "nbformat_minor": 4
}
