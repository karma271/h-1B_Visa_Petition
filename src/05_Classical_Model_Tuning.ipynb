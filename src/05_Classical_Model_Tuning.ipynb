{
 "cells": [
  {
   "cell_type": "markdown",
   "metadata": {},
   "source": [
    "# H-1B Visa Petition\n",
    "## 05:Classical Model Tuning\n",
    "**Author:** Prasoon Karmacharya"
   ]
  },
  {
   "cell_type": "code",
   "execution_count": 1,
   "metadata": {},
   "outputs": [],
   "source": [
    "# Imports\n",
    "import matplotlib.pyplot as plt\n",
    "import numpy as np\n",
    "import pandas as pd\n",
    "from tqdm import tqdm\n",
    "\n",
    "from sklearn.linear_model import LogisticRegression, SGDClassifier\n",
    "from sklearn.svm import LinearSVC\n",
    "from sklearn.naive_bayes import MultinomialNB\n",
    "from sklearn.tree import DecisionTreeClassifier, ExtraTreeClassifier\n",
    "from sklearn.ensemble import BaggingClassifier, RandomForestClassifier, GradientBoostingClassifier, AdaBoostClassifier\n",
    "\n",
    "from sklearn.model_selection import cross_val_score, train_test_split, GridSearchCV\n",
    "\n",
    "from sklearn.metrics import (accuracy_score, confusion_matrix, plot_confusion_matrix,\n",
    "                             ConfusionMatrixDisplay, classification_report, \n",
    "                             f1_score, recall_score, precision_score, \n",
    "                             roc_curve, roc_auc_score, hamming_loss, jaccard_score)\n",
    "\n",
    "RANDOM_STATE = 42\n",
    "\n",
    "\n",
    "from imblearn.datasets import make_imbalance\n",
    "from imblearn.under_sampling import RandomUnderSampler"
   ]
  },
  {
   "cell_type": "code",
   "execution_count": 2,
   "metadata": {},
   "outputs": [],
   "source": [
    "def evaluate_model(X_train, y_train, X_val, y_val, X_test, y_test, y_pred_val, y_pred_test, classifier, clf):\n",
    "    print(\"-----------------------------------------------\")\n",
    "    print(\"Clf: \", classifier.__class__.__name__)\n",
    "    model_results = {}\n",
    "    \n",
    "    model_results['Classifier'] = classifier.__class__.__name__\n",
    "    \n",
    "    model_results['Accuracy (train)'] = clf.score(X_train, y_train)\n",
    "    \n",
    "    # Validation Performance\n",
    "    model_results['Accuracy (val)'] = clf.score(X_val, y_val)\n",
    "    model_results['Accuracy (test)'] = clf.score(X_test, y_test)\n",
    "    \n",
    "    model_results['Recall (val)'] = recall_score(y_val, y_pred_val, average='weighted', labels=np.unique(y_pred_val))\n",
    "    model_results['Precision (val)'] = precision_score(y_val, y_pred_val, average='weighted', labels=np.unique(y_pred_val))\n",
    "    model_results['F1-score (val)'] = f1_score(y_val, y_pred_val, average='weighted', labels=np.unique(y_pred_val))\n",
    "    model_results['AUC-ROC (val)'] = roc_auc_score(y_val, y_pred_val)\n",
    "    model_results['Jacard score (val)'] = jaccard_score(y_val, y_pred_val,average='weighted', labels=np.unique(y_pred_test))\n",
    "    model_results['Hamming Loss (val)'] = hamming_loss(y_val, y_pred_val)\n",
    "    \n",
    "    model_results['CV Accuracy'] = cross_val_score(clf, X_train, y_train, cv=5).mean()\n",
    "    \n",
    "    # Test Performance\n",
    "    model_results['Recall (test)'] = recall_score(y_test, y_pred_test, average='weighted', labels=np.unique(y_pred_test))\n",
    "    model_results['Precision (test)'] = precision_score(y_test, y_pred_test, average='weighted', labels=np.unique(y_pred_test))\n",
    "    model_results['F1-score (test)'] = f1_score(y_test, y_pred_test, average='weighted', labels=np.unique(y_pred_test))\n",
    "    model_results['AUC-ROC (test)'] = roc_auc_score(y_test, y_pred_test)\n",
    "    model_results['Jacard score (test)'] = jaccard_score(y_test, y_pred_test, average='weighted', labels=np.unique(y_pred_test))\n",
    "    model_results['Hamming Loss (test)'] = hamming_loss(y_test, y_pred_test)\n",
    "\n",
    "    return model_results\n",
    "\n",
    "\n",
    "def run_model(classifier, X_train, y_train, X_val, y_val, X_test, y_test):\n",
    "    model = classifier\n",
    "    model.fit(X_train, y_train)\n",
    "    y_pred_val = model.predict(X_val)\n",
    "    y_pred_test = model.predict(X_test)\n",
    "    \n",
    "    return model, y_pred_val, y_pred_test"
   ]
  },
  {
   "cell_type": "code",
   "execution_count": 3,
   "metadata": {},
   "outputs": [],
   "source": [
    "# Read Data"
   ]
  },
  {
   "cell_type": "code",
   "execution_count": 4,
   "metadata": {},
   "outputs": [],
   "source": [
    "data = pd.read_pickle(\"../assets/data/cleaned_h1b.pkl\")"
   ]
  },
  {
   "cell_type": "code",
   "execution_count": 5,
   "metadata": {},
   "outputs": [
    {
     "data": {
      "text/html": [
       "<div>\n",
       "<style scoped>\n",
       "    .dataframe tbody tr th:only-of-type {\n",
       "        vertical-align: middle;\n",
       "    }\n",
       "\n",
       "    .dataframe tbody tr th {\n",
       "        vertical-align: top;\n",
       "    }\n",
       "\n",
       "    .dataframe thead th {\n",
       "        text-align: right;\n",
       "    }\n",
       "</style>\n",
       "<table border=\"1\" class=\"dataframe\">\n",
       "  <thead>\n",
       "    <tr style=\"text-align: right;\">\n",
       "      <th></th>\n",
       "      <th>CASE_STATUS</th>\n",
       "      <th>EMPLOYER_NAME</th>\n",
       "      <th>SOC_NAME</th>\n",
       "      <th>JOB_TITLE</th>\n",
       "      <th>FULL_TIME_POSITION</th>\n",
       "      <th>PREVAILING_WAGE</th>\n",
       "      <th>YEAR</th>\n",
       "      <th>WORKSITE</th>\n",
       "      <th>YEAR_coded</th>\n",
       "      <th>SOC_NAME_coded</th>\n",
       "    </tr>\n",
       "  </thead>\n",
       "  <tbody>\n",
       "    <tr>\n",
       "      <th>0</th>\n",
       "      <td>1</td>\n",
       "      <td>UNIVERSITY OF MICHIGAN</td>\n",
       "      <td>BIOCHEMISTS AND BIOPHYSICISTS</td>\n",
       "      <td>POSTDOCTORAL RESEARCH FELLOW</td>\n",
       "      <td>0</td>\n",
       "      <td>36067.0</td>\n",
       "      <td>2016.0</td>\n",
       "      <td>ANN ARBOR, MICHIGAN</td>\n",
       "      <td>5</td>\n",
       "      <td>192</td>\n",
       "    </tr>\n",
       "    <tr>\n",
       "      <th>1</th>\n",
       "      <td>1</td>\n",
       "      <td>GOODMAN NETWORKS, INC.</td>\n",
       "      <td>CHIEF EXECUTIVES</td>\n",
       "      <td>CHIEF OPERATING OFFICER</td>\n",
       "      <td>1</td>\n",
       "      <td>242674.0</td>\n",
       "      <td>2016.0</td>\n",
       "      <td>PLANO, TEXAS</td>\n",
       "      <td>5</td>\n",
       "      <td>297</td>\n",
       "    </tr>\n",
       "    <tr>\n",
       "      <th>2</th>\n",
       "      <td>1</td>\n",
       "      <td>PORTS AMERICA GROUP, INC.</td>\n",
       "      <td>CHIEF EXECUTIVES</td>\n",
       "      <td>CHIEF PROCESS OFFICER</td>\n",
       "      <td>1</td>\n",
       "      <td>193066.0</td>\n",
       "      <td>2016.0</td>\n",
       "      <td>JERSEY CITY, NEW JERSEY</td>\n",
       "      <td>5</td>\n",
       "      <td>297</td>\n",
       "    </tr>\n",
       "    <tr>\n",
       "      <th>3</th>\n",
       "      <td>1</td>\n",
       "      <td>GATES CORPORATION, A WHOLLY-OWNED SUBSIDIARY O...</td>\n",
       "      <td>CHIEF EXECUTIVES</td>\n",
       "      <td>REGIONAL PRESIDEN, AMERICAS</td>\n",
       "      <td>1</td>\n",
       "      <td>220314.0</td>\n",
       "      <td>2016.0</td>\n",
       "      <td>DENVER, COLORADO</td>\n",
       "      <td>5</td>\n",
       "      <td>297</td>\n",
       "    </tr>\n",
       "    <tr>\n",
       "      <th>5</th>\n",
       "      <td>1</td>\n",
       "      <td>BURGER KING CORPORATION</td>\n",
       "      <td>CHIEF EXECUTIVES</td>\n",
       "      <td>EXECUTIVE V P, GLOBAL DEVELOPMENT AND PRESIDEN...</td>\n",
       "      <td>1</td>\n",
       "      <td>225000.0</td>\n",
       "      <td>2016.0</td>\n",
       "      <td>MIAMI, FLORIDA</td>\n",
       "      <td>5</td>\n",
       "      <td>297</td>\n",
       "    </tr>\n",
       "  </tbody>\n",
       "</table>\n",
       "</div>"
      ],
      "text/plain": [
       "   CASE_STATUS                                      EMPLOYER_NAME  \\\n",
       "0            1                             UNIVERSITY OF MICHIGAN   \n",
       "1            1                             GOODMAN NETWORKS, INC.   \n",
       "2            1                          PORTS AMERICA GROUP, INC.   \n",
       "3            1  GATES CORPORATION, A WHOLLY-OWNED SUBSIDIARY O...   \n",
       "5            1                            BURGER KING CORPORATION   \n",
       "\n",
       "                        SOC_NAME  \\\n",
       "0  BIOCHEMISTS AND BIOPHYSICISTS   \n",
       "1               CHIEF EXECUTIVES   \n",
       "2               CHIEF EXECUTIVES   \n",
       "3               CHIEF EXECUTIVES   \n",
       "5               CHIEF EXECUTIVES   \n",
       "\n",
       "                                           JOB_TITLE  FULL_TIME_POSITION  \\\n",
       "0                       POSTDOCTORAL RESEARCH FELLOW                   0   \n",
       "1                            CHIEF OPERATING OFFICER                   1   \n",
       "2                              CHIEF PROCESS OFFICER                   1   \n",
       "3                        REGIONAL PRESIDEN, AMERICAS                   1   \n",
       "5  EXECUTIVE V P, GLOBAL DEVELOPMENT AND PRESIDEN...                   1   \n",
       "\n",
       "   PREVAILING_WAGE    YEAR                 WORKSITE  YEAR_coded  \\\n",
       "0          36067.0  2016.0      ANN ARBOR, MICHIGAN           5   \n",
       "1         242674.0  2016.0             PLANO, TEXAS           5   \n",
       "2         193066.0  2016.0  JERSEY CITY, NEW JERSEY           5   \n",
       "3         220314.0  2016.0         DENVER, COLORADO           5   \n",
       "5         225000.0  2016.0           MIAMI, FLORIDA           5   \n",
       "\n",
       "   SOC_NAME_coded  \n",
       "0             192  \n",
       "1             297  \n",
       "2             297  \n",
       "3             297  \n",
       "5             297  "
      ]
     },
     "execution_count": 5,
     "metadata": {},
     "output_type": "execute_result"
    }
   ],
   "source": [
    "data.head()"
   ]
  },
  {
   "cell_type": "code",
   "execution_count": 6,
   "metadata": {},
   "outputs": [],
   "source": [
    "feature_cols = ['FULL_TIME_POSITION', 'PREVAILING_WAGE', 'YEAR_coded', 'SOC_NAME_coded']\n",
    "target_col = ['CASE_STATUS']"
   ]
  },
  {
   "cell_type": "markdown",
   "metadata": {},
   "source": [
    "* Split the data into dev, validation, and test set 60:10:10"
   ]
  },
  {
   "cell_type": "code",
   "execution_count": 7,
   "metadata": {},
   "outputs": [],
   "source": [
    "# dev, test = train_test_split(data, test_size=0.2, random_state=RANDOM_STATE)\n",
    "dev, test = train_test_split(data, test_size=0.15, random_state=RANDOM_STATE)"
   ]
  },
  {
   "cell_type": "code",
   "execution_count": 8,
   "metadata": {},
   "outputs": [],
   "source": [
    "train, val = train_test_split(dev, test_size=0.15, random_state=RANDOM_STATE)"
   ]
  },
  {
   "cell_type": "code",
   "execution_count": 9,
   "metadata": {},
   "outputs": [
    {
     "data": {
      "text/plain": [
       "0.7224995916862134"
      ]
     },
     "execution_count": 9,
     "metadata": {},
     "output_type": "execute_result"
    }
   ],
   "source": [
    "train.shape[0]/data.shape[0]"
   ]
  },
  {
   "cell_type": "code",
   "execution_count": 10,
   "metadata": {},
   "outputs": [
    {
     "data": {
      "text/plain": [
       "0.1275002529301046"
      ]
     },
     "execution_count": 10,
     "metadata": {},
     "output_type": "execute_result"
    }
   ],
   "source": [
    "val.shape[0]/data.shape[0]"
   ]
  },
  {
   "cell_type": "code",
   "execution_count": 11,
   "metadata": {},
   "outputs": [
    {
     "data": {
      "text/plain": [
       "0.15000015538368203"
      ]
     },
     "execution_count": 11,
     "metadata": {},
     "output_type": "execute_result"
    }
   ],
   "source": [
    "test.shape[0]/data.shape[0]"
   ]
  },
  {
   "cell_type": "code",
   "execution_count": 12,
   "metadata": {},
   "outputs": [],
   "source": [
    "X_train = train[feature_cols]\n",
    "y_train = train[target_col]\n",
    "\n",
    "X_val = val[feature_cols]\n",
    "y_val = val[target_col]\n",
    "\n",
    "X_test = test[feature_cols]\n",
    "y_test = test[target_col]"
   ]
  },
  {
   "cell_type": "code",
   "execution_count": 13,
   "metadata": {},
   "outputs": [
    {
     "data": {
      "text/plain": [
       "1    0.967274\n",
       "0    0.032726\n",
       "Name: CASE_STATUS, dtype: float64"
      ]
     },
     "execution_count": 13,
     "metadata": {},
     "output_type": "execute_result"
    }
   ],
   "source": [
    "y_train[\"CASE_STATUS\"].value_counts(normalize=True)"
   ]
  },
  {
   "cell_type": "code",
   "execution_count": 14,
   "metadata": {},
   "outputs": [
    {
     "data": {
      "text/plain": [
       "1    2023925\n",
       "0      68475\n",
       "Name: CASE_STATUS, dtype: int64"
      ]
     },
     "execution_count": 14,
     "metadata": {},
     "output_type": "execute_result"
    }
   ],
   "source": [
    "y_train[\"CASE_STATUS\"].value_counts()"
   ]
  },
  {
   "cell_type": "code",
   "execution_count": 15,
   "metadata": {},
   "outputs": [
    {
     "data": {
      "text/plain": [
       "205425.0"
      ]
     },
     "execution_count": 15,
     "metadata": {},
     "output_type": "execute_result"
    }
   ],
   "source": [
    "68475*(.75/.25)"
   ]
  },
  {
   "cell_type": "code",
   "execution_count": 16,
   "metadata": {},
   "outputs": [],
   "source": [
    "sampling_strategy = {0:68475, 1:205425}\n",
    "X_train_balanced, y_train_balanced = make_imbalance(X_train, \n",
    "                                                    y_train, \n",
    "                                                    sampling_strategy=sampling_strategy, \n",
    "                                                    random_state=RANDOM_STATE)"
   ]
  },
  {
   "cell_type": "code",
   "execution_count": 17,
   "metadata": {},
   "outputs": [
    {
     "data": {
      "text/plain": [
       "1    0.75\n",
       "0    0.25\n",
       "Name: CASE_STATUS, dtype: float64"
      ]
     },
     "execution_count": 17,
     "metadata": {},
     "output_type": "execute_result"
    }
   ],
   "source": [
    "y_train_balanced[\"CASE_STATUS\"].value_counts(normalize=True)"
   ]
  },
  {
   "cell_type": "code",
   "execution_count": 18,
   "metadata": {},
   "outputs": [],
   "source": [
    "def evaluate_model(clf, X_train, y_train, X_val, y_val, X_test, y_test, y_pred_val, y_pred_test):\n",
    "    print(\"-----------------------------------------------\")\n",
    "\n",
    "    model_results = {}\n",
    "    \n",
    "    model_results['Classifier'] = clf.__class__.__name__\n",
    "    \n",
    "    model_results['Best Parameters'] = clf.best_params_\n",
    "    \n",
    "    model_results['Accuracy (train)'] = clf.score(X_train, y_train)\n",
    "    \n",
    "    # Validation Performance\n",
    "    model_results['Accuracy (val)'] = clf.score(X_val, y_val)\n",
    "    model_results['Accuracy (test)'] = clf.score(X_test, y_test)\n",
    "    \n",
    "    model_results['Recall (val)'] = recall_score(y_val, y_pred_val, average='weighted', labels=np.unique(y_pred_val))\n",
    "    model_results['Precision (val)'] = precision_score(y_val, y_pred_val, average='weighted', labels=np.unique(y_pred_val))\n",
    "    model_results['F1-score (val)'] = f1_score(y_val, y_pred_val, average='weighted', labels=np.unique(y_pred_val))\n",
    "    model_results['AUC-ROC (val)'] = roc_auc_score(y_val, y_pred_val)\n",
    "    model_results['Jacard score (val)'] = jaccard_score(y_val, y_pred_val,average='weighted', labels=np.unique(y_pred_test))\n",
    "    model_results['Hamming Loss (val)'] = hamming_loss(y_val, y_pred_val)\n",
    "    \n",
    "    model_results['CV Accuracy'] = cross_val_score(clf, X_train, y_train, cv=5).mean()\n",
    "    \n",
    "    # Test Performance\n",
    "    model_results['Recall (test)'] = recall_score(y_test, y_pred_test, average='weighted', labels=np.unique(y_pred_test))\n",
    "    model_results['Precision (test)'] = precision_score(y_test, y_pred_test, average='weighted', labels=np.unique(y_pred_test))\n",
    "    model_results['F1-score (test)'] = f1_score(y_test, y_pred_test, average='weighted', labels=np.unique(y_pred_test))\n",
    "    model_results['AUC-ROC (test)'] = roc_auc_score(y_test, y_pred_test)\n",
    "    model_results['Jacard score (test)'] = jaccard_score(y_test, y_pred_test, average='weighted', labels=np.unique(y_pred_test))\n",
    "    model_results['Hamming Loss (test)'] = hamming_loss(y_test, y_pred_test)   \n",
    "    \n",
    "    return model_results"
   ]
  },
  {
   "cell_type": "markdown",
   "metadata": {},
   "source": [
    "## Model Tunning one at a time"
   ]
  },
  {
   "cell_type": "markdown",
   "metadata": {},
   "source": [
    "### Model 1: Logistic Regression"
   ]
  },
  {
   "cell_type": "code",
   "execution_count": 23,
   "metadata": {},
   "outputs": [],
   "source": [
    "from pathlib import Path\n",
    "logistic_reg_model_benchmark_file_path = Path(\"../assets/model_performance/01_logistic_regression_model_performance.csv\")\n",
    "\n",
    "if logistic_reg_model_benchmark_file_path.is_file():\n",
    "    model_benchmark = pd.read_csv(logistic_reg_model_benchmark_file_path)\n",
    "else:\n",
    "    model_benchmark = pd.DataFrame(columns=['Classifier', 'Best Parameters', 'Accuracy (train)', 'Accuracy (val)', 'Accuracy (test)', 'CV Accuracy', \n",
    "                                    'Recall (val)', 'Precision (val)', 'F1-score (val)', 'AUC-ROC (val)', 'Jacard score (val)', 'Hamming Loss (val)',\n",
    "                                    'Recall (test)', 'Precision (test)', 'F1-score (test)', 'AUC-ROC (test)', 'Jacard score (test)', 'Hamming Loss (test)'\n",
    "                                   ])"
   ]
  },
  {
   "cell_type": "code",
   "execution_count": 24,
   "metadata": {},
   "outputs": [
    {
     "data": {
      "text/html": [
       "<div>\n",
       "<style scoped>\n",
       "    .dataframe tbody tr th:only-of-type {\n",
       "        vertical-align: middle;\n",
       "    }\n",
       "\n",
       "    .dataframe tbody tr th {\n",
       "        vertical-align: top;\n",
       "    }\n",
       "\n",
       "    .dataframe thead th {\n",
       "        text-align: right;\n",
       "    }\n",
       "</style>\n",
       "<table border=\"1\" class=\"dataframe\">\n",
       "  <thead>\n",
       "    <tr style=\"text-align: right;\">\n",
       "      <th></th>\n",
       "      <th>Classifier</th>\n",
       "      <th>Best Parameters</th>\n",
       "      <th>Accuracy (train)</th>\n",
       "      <th>Accuracy (val)</th>\n",
       "      <th>Accuracy (test)</th>\n",
       "      <th>CV Accuracy</th>\n",
       "      <th>Recall (val)</th>\n",
       "      <th>Precision (val)</th>\n",
       "      <th>F1-score (val)</th>\n",
       "      <th>AUC-ROC (val)</th>\n",
       "      <th>Jacard score (val)</th>\n",
       "      <th>Hamming Loss (val)</th>\n",
       "      <th>Recall (test)</th>\n",
       "      <th>Precision (test)</th>\n",
       "      <th>F1-score (test)</th>\n",
       "      <th>AUC-ROC (test)</th>\n",
       "      <th>Jacard score (test)</th>\n",
       "      <th>Hamming Loss (test)</th>\n",
       "    </tr>\n",
       "  </thead>\n",
       "  <tbody>\n",
       "    <tr>\n",
       "      <th>0</th>\n",
       "      <td>GridSearchCV</td>\n",
       "      <td>{'C': 0.0001, 'penalty': 'l2'}</td>\n",
       "      <td>0.859083</td>\n",
       "      <td>0.983884</td>\n",
       "      <td>0.983936</td>\n",
       "      <td>0.859082</td>\n",
       "      <td>0.968298</td>\n",
       "      <td>0.968145</td>\n",
       "      <td>0.953274</td>\n",
       "      <td>0.508848</td>\n",
       "      <td>0.937622</td>\n",
       "      <td>0.031702</td>\n",
       "      <td>0.968396</td>\n",
       "      <td>0.968465</td>\n",
       "      <td>0.953378</td>\n",
       "      <td>0.508269</td>\n",
       "      <td>0.937807</td>\n",
       "      <td>0.031604</td>\n",
       "    </tr>\n",
       "    <tr>\n",
       "      <th>1</th>\n",
       "      <td>GridSearchCV</td>\n",
       "      <td>{'C': 1e-05, 'penalty': 'l2'}</td>\n",
       "      <td>0.859083</td>\n",
       "      <td>0.983884</td>\n",
       "      <td>0.983936</td>\n",
       "      <td>0.859082</td>\n",
       "      <td>0.968298</td>\n",
       "      <td>0.968145</td>\n",
       "      <td>0.953274</td>\n",
       "      <td>0.508848</td>\n",
       "      <td>0.937622</td>\n",
       "      <td>0.031702</td>\n",
       "      <td>0.968396</td>\n",
       "      <td>0.968465</td>\n",
       "      <td>0.953378</td>\n",
       "      <td>0.508269</td>\n",
       "      <td>0.937807</td>\n",
       "      <td>0.031604</td>\n",
       "    </tr>\n",
       "    <tr>\n",
       "      <th>2</th>\n",
       "      <td>GridSearchCV</td>\n",
       "      <td>{'C': 1e-05, 'penalty': 'none'}</td>\n",
       "      <td>0.859083</td>\n",
       "      <td>0.983884</td>\n",
       "      <td>0.983936</td>\n",
       "      <td>0.859082</td>\n",
       "      <td>0.968298</td>\n",
       "      <td>0.968145</td>\n",
       "      <td>0.953274</td>\n",
       "      <td>0.508848</td>\n",
       "      <td>0.937622</td>\n",
       "      <td>0.031702</td>\n",
       "      <td>0.968396</td>\n",
       "      <td>0.968465</td>\n",
       "      <td>0.953378</td>\n",
       "      <td>0.508269</td>\n",
       "      <td>0.937807</td>\n",
       "      <td>0.031604</td>\n",
       "    </tr>\n",
       "    <tr>\n",
       "      <th>3</th>\n",
       "      <td>GridSearchCV</td>\n",
       "      <td>{'C': 1e-05, 'class_weight': 'none', 'penalty'...</td>\n",
       "      <td>0.859083</td>\n",
       "      <td>0.983884</td>\n",
       "      <td>0.983936</td>\n",
       "      <td>0.859082</td>\n",
       "      <td>0.968298</td>\n",
       "      <td>0.968145</td>\n",
       "      <td>0.953274</td>\n",
       "      <td>0.508848</td>\n",
       "      <td>0.937622</td>\n",
       "      <td>0.031702</td>\n",
       "      <td>0.968396</td>\n",
       "      <td>0.968465</td>\n",
       "      <td>0.953378</td>\n",
       "      <td>0.508269</td>\n",
       "      <td>0.937807</td>\n",
       "      <td>0.031604</td>\n",
       "    </tr>\n",
       "    <tr>\n",
       "      <th>4</th>\n",
       "      <td>GridSearchCV</td>\n",
       "      <td>{'C': 1e-05, 'class_weight': 'balanced', 'pena...</td>\n",
       "      <td>0.000000</td>\n",
       "      <td>0.000000</td>\n",
       "      <td>0.000000</td>\n",
       "      <td>0.000000</td>\n",
       "      <td>1.000000</td>\n",
       "      <td>0.032252</td>\n",
       "      <td>0.062489</td>\n",
       "      <td>0.500000</td>\n",
       "      <td>0.032252</td>\n",
       "      <td>0.967748</td>\n",
       "      <td>1.000000</td>\n",
       "      <td>0.032120</td>\n",
       "      <td>0.062240</td>\n",
       "      <td>0.500000</td>\n",
       "      <td>0.032120</td>\n",
       "      <td>0.967880</td>\n",
       "    </tr>\n",
       "    <tr>\n",
       "      <th>5</th>\n",
       "      <td>GridSearchCV</td>\n",
       "      <td>{'C': 0.01, 'penalty': 'l1', 'solver': 'liblin...</td>\n",
       "      <td>0.861858</td>\n",
       "      <td>0.980864</td>\n",
       "      <td>0.981059</td>\n",
       "      <td>0.861751</td>\n",
       "      <td>0.962529</td>\n",
       "      <td>0.945757</td>\n",
       "      <td>0.952617</td>\n",
       "      <td>0.530259</td>\n",
       "      <td>0.933194</td>\n",
       "      <td>0.037471</td>\n",
       "      <td>0.962904</td>\n",
       "      <td>0.946179</td>\n",
       "      <td>0.952951</td>\n",
       "      <td>0.530515</td>\n",
       "      <td>0.933693</td>\n",
       "      <td>0.037096</td>\n",
       "    </tr>\n",
       "  </tbody>\n",
       "</table>\n",
       "</div>"
      ],
      "text/plain": [
       "     Classifier                                    Best Parameters  \\\n",
       "0  GridSearchCV                     {'C': 0.0001, 'penalty': 'l2'}   \n",
       "1  GridSearchCV                      {'C': 1e-05, 'penalty': 'l2'}   \n",
       "2  GridSearchCV                    {'C': 1e-05, 'penalty': 'none'}   \n",
       "3  GridSearchCV  {'C': 1e-05, 'class_weight': 'none', 'penalty'...   \n",
       "4  GridSearchCV  {'C': 1e-05, 'class_weight': 'balanced', 'pena...   \n",
       "5  GridSearchCV  {'C': 0.01, 'penalty': 'l1', 'solver': 'liblin...   \n",
       "\n",
       "   Accuracy (train)  Accuracy (val)  Accuracy (test)  CV Accuracy  \\\n",
       "0          0.859083        0.983884         0.983936     0.859082   \n",
       "1          0.859083        0.983884         0.983936     0.859082   \n",
       "2          0.859083        0.983884         0.983936     0.859082   \n",
       "3          0.859083        0.983884         0.983936     0.859082   \n",
       "4          0.000000        0.000000         0.000000     0.000000   \n",
       "5          0.861858        0.980864         0.981059     0.861751   \n",
       "\n",
       "   Recall (val)  Precision (val)  F1-score (val)  AUC-ROC (val)  \\\n",
       "0      0.968298         0.968145        0.953274       0.508848   \n",
       "1      0.968298         0.968145        0.953274       0.508848   \n",
       "2      0.968298         0.968145        0.953274       0.508848   \n",
       "3      0.968298         0.968145        0.953274       0.508848   \n",
       "4      1.000000         0.032252        0.062489       0.500000   \n",
       "5      0.962529         0.945757        0.952617       0.530259   \n",
       "\n",
       "   Jacard score (val)  Hamming Loss (val)  Recall (test)  Precision (test)  \\\n",
       "0            0.937622            0.031702       0.968396          0.968465   \n",
       "1            0.937622            0.031702       0.968396          0.968465   \n",
       "2            0.937622            0.031702       0.968396          0.968465   \n",
       "3            0.937622            0.031702       0.968396          0.968465   \n",
       "4            0.032252            0.967748       1.000000          0.032120   \n",
       "5            0.933194            0.037471       0.962904          0.946179   \n",
       "\n",
       "   F1-score (test)  AUC-ROC (test)  Jacard score (test)  Hamming Loss (test)  \n",
       "0         0.953378        0.508269             0.937807             0.031604  \n",
       "1         0.953378        0.508269             0.937807             0.031604  \n",
       "2         0.953378        0.508269             0.937807             0.031604  \n",
       "3         0.953378        0.508269             0.937807             0.031604  \n",
       "4         0.062240        0.500000             0.032120             0.967880  \n",
       "5         0.952951        0.530515             0.933693             0.037096  "
      ]
     },
     "execution_count": 24,
     "metadata": {},
     "output_type": "execute_result"
    }
   ],
   "source": [
    "model_benchmark"
   ]
  },
  {
   "cell_type": "code",
   "execution_count": 25,
   "metadata": {},
   "outputs": [
    {
     "name": "stdout",
     "output_type": "stream",
     "text": [
      "Fitting 5 folds for each of 20 candidates, totalling 100 fits\n"
     ]
    },
    {
     "name": "stderr",
     "output_type": "stream",
     "text": [
      "[Parallel(n_jobs=-1)]: Using backend LokyBackend with 8 concurrent workers.\n",
      "[Parallel(n_jobs=-1)]: Done  34 tasks      | elapsed:   29.6s\n",
      "[Parallel(n_jobs=-1)]: Done 100 out of 100 | elapsed:  1.5min finished\n",
      "/home/karma/anaconda3/lib/python3.7/site-packages/sklearn/utils/validation.py:73: DataConversionWarning: A column-vector y was passed when a 1d array was expected. Please change the shape of y to (n_samples, ), for example using ravel().\n",
      "  return f(**kwargs)\n"
     ]
    },
    {
     "name": "stdout",
     "output_type": "stream",
     "text": [
      "-----------------------------------------------\n",
      "Fitting 5 folds for each of 20 candidates, totalling 100 fits\n"
     ]
    },
    {
     "name": "stderr",
     "output_type": "stream",
     "text": [
      "[Parallel(n_jobs=-1)]: Using backend LokyBackend with 8 concurrent workers.\n",
      "[Parallel(n_jobs=-1)]: Done  34 tasks      | elapsed:   22.3s\n",
      "[Parallel(n_jobs=-1)]: Done 100 out of 100 | elapsed:  1.2min finished\n",
      "/home/karma/anaconda3/lib/python3.7/site-packages/sklearn/utils/validation.py:73: DataConversionWarning: A column-vector y was passed when a 1d array was expected. Please change the shape of y to (n_samples, ), for example using ravel().\n",
      "  return f(**kwargs)\n"
     ]
    },
    {
     "name": "stdout",
     "output_type": "stream",
     "text": [
      "Fitting 5 folds for each of 20 candidates, totalling 100 fits\n"
     ]
    },
    {
     "name": "stderr",
     "output_type": "stream",
     "text": [
      "[Parallel(n_jobs=-1)]: Using backend LokyBackend with 8 concurrent workers.\n",
      "[Parallel(n_jobs=-1)]: Done  34 tasks      | elapsed:   22.1s\n",
      "[Parallel(n_jobs=-1)]: Done 100 out of 100 | elapsed:  1.2min finished\n",
      "/home/karma/anaconda3/lib/python3.7/site-packages/sklearn/utils/validation.py:73: DataConversionWarning: A column-vector y was passed when a 1d array was expected. Please change the shape of y to (n_samples, ), for example using ravel().\n",
      "  return f(**kwargs)\n"
     ]
    },
    {
     "name": "stdout",
     "output_type": "stream",
     "text": [
      "Fitting 5 folds for each of 20 candidates, totalling 100 fits\n"
     ]
    },
    {
     "name": "stderr",
     "output_type": "stream",
     "text": [
      "[Parallel(n_jobs=-1)]: Using backend LokyBackend with 8 concurrent workers.\n",
      "[Parallel(n_jobs=-1)]: Done  34 tasks      | elapsed:   22.3s\n",
      "[Parallel(n_jobs=-1)]: Done 100 out of 100 | elapsed:  1.2min finished\n",
      "/home/karma/anaconda3/lib/python3.7/site-packages/sklearn/utils/validation.py:73: DataConversionWarning: A column-vector y was passed when a 1d array was expected. Please change the shape of y to (n_samples, ), for example using ravel().\n",
      "  return f(**kwargs)\n"
     ]
    },
    {
     "name": "stdout",
     "output_type": "stream",
     "text": [
      "Fitting 5 folds for each of 20 candidates, totalling 100 fits\n"
     ]
    },
    {
     "name": "stderr",
     "output_type": "stream",
     "text": [
      "[Parallel(n_jobs=-1)]: Using backend LokyBackend with 8 concurrent workers.\n",
      "[Parallel(n_jobs=-1)]: Done  34 tasks      | elapsed:   22.0s\n",
      "[Parallel(n_jobs=-1)]: Done 100 out of 100 | elapsed:  1.2min finished\n",
      "/home/karma/anaconda3/lib/python3.7/site-packages/sklearn/utils/validation.py:73: DataConversionWarning: A column-vector y was passed when a 1d array was expected. Please change the shape of y to (n_samples, ), for example using ravel().\n",
      "  return f(**kwargs)\n"
     ]
    },
    {
     "name": "stdout",
     "output_type": "stream",
     "text": [
      "Fitting 5 folds for each of 20 candidates, totalling 100 fits\n"
     ]
    },
    {
     "name": "stderr",
     "output_type": "stream",
     "text": [
      "[Parallel(n_jobs=-1)]: Using backend LokyBackend with 8 concurrent workers.\n",
      "[Parallel(n_jobs=-1)]: Done  34 tasks      | elapsed:   22.0s\n",
      "[Parallel(n_jobs=-1)]: Done 100 out of 100 | elapsed:  1.2min finished\n",
      "/home/karma/anaconda3/lib/python3.7/site-packages/sklearn/utils/validation.py:73: DataConversionWarning: A column-vector y was passed when a 1d array was expected. Please change the shape of y to (n_samples, ), for example using ravel().\n",
      "  return f(**kwargs)\n"
     ]
    }
   ],
   "source": [
    "# parameters for Gridsearch\n",
    "\n",
    "lr_params = {\n",
    "    'penalty' : ['l1', 'none'],\n",
    "    'C': np.linspace(0.000001,0.001,5),\n",
    "    'solver': ['liblinear', 'saga' ]\n",
    "    \n",
    "}\n",
    "\n",
    "lr = LogisticRegression()\n",
    "\n",
    "lr_GS = GridSearchCV(lr, lr_params, scoring='f1', cv=5, verbose=True, n_jobs=-1)\n",
    "\n",
    "lr_GS.fit(X_train_balanced, y_train_balanced)\n",
    "\n",
    "y_pred_val = lr_GS.predict(X_val)\n",
    "y_pred_test = lr_GS.predict(X_test)\n",
    "\n",
    "\n",
    "# Add to the history\n",
    "evaluation_result = evaluate_model(clf=lr_GS, \n",
    "                       X_train = X_train_balanced, \n",
    "                       y_train = y_train_balanced,\n",
    "                       X_val = X_val,\n",
    "                       y_val = y_val,\n",
    "                       X_test = X_test, \n",
    "                       y_test = y_test,\n",
    "                       y_pred_val = y_pred_val, \n",
    "                       y_pred_test = y_pred_test)\n",
    "\n",
    "\n"
   ]
  },
  {
   "cell_type": "code",
   "execution_count": 26,
   "metadata": {},
   "outputs": [],
   "source": [
    "model_benchmark = model_benchmark.append(evaluation_result, ignore_index=True)\n"
   ]
  },
  {
   "cell_type": "code",
   "execution_count": 27,
   "metadata": {},
   "outputs": [
    {
     "data": {
      "text/html": [
       "<div>\n",
       "<style scoped>\n",
       "    .dataframe tbody tr th:only-of-type {\n",
       "        vertical-align: middle;\n",
       "    }\n",
       "\n",
       "    .dataframe tbody tr th {\n",
       "        vertical-align: top;\n",
       "    }\n",
       "\n",
       "    .dataframe thead th {\n",
       "        text-align: right;\n",
       "    }\n",
       "</style>\n",
       "<table border=\"1\" class=\"dataframe\">\n",
       "  <thead>\n",
       "    <tr style=\"text-align: right;\">\n",
       "      <th></th>\n",
       "      <th>Classifier</th>\n",
       "      <th>Best Parameters</th>\n",
       "      <th>Accuracy (train)</th>\n",
       "      <th>Accuracy (val)</th>\n",
       "      <th>Accuracy (test)</th>\n",
       "      <th>CV Accuracy</th>\n",
       "      <th>Recall (val)</th>\n",
       "      <th>Precision (val)</th>\n",
       "      <th>F1-score (val)</th>\n",
       "      <th>AUC-ROC (val)</th>\n",
       "      <th>Jacard score (val)</th>\n",
       "      <th>Hamming Loss (val)</th>\n",
       "      <th>Recall (test)</th>\n",
       "      <th>Precision (test)</th>\n",
       "      <th>F1-score (test)</th>\n",
       "      <th>AUC-ROC (test)</th>\n",
       "      <th>Jacard score (test)</th>\n",
       "      <th>Hamming Loss (test)</th>\n",
       "    </tr>\n",
       "  </thead>\n",
       "  <tbody>\n",
       "    <tr>\n",
       "      <th>0</th>\n",
       "      <td>GridSearchCV</td>\n",
       "      <td>{'C': 0.0001, 'penalty': 'l2'}</td>\n",
       "      <td>0.859083</td>\n",
       "      <td>0.983884</td>\n",
       "      <td>0.983936</td>\n",
       "      <td>0.859082</td>\n",
       "      <td>0.968298</td>\n",
       "      <td>0.968145</td>\n",
       "      <td>0.953274</td>\n",
       "      <td>0.508848</td>\n",
       "      <td>0.937622</td>\n",
       "      <td>0.031702</td>\n",
       "      <td>0.968396</td>\n",
       "      <td>0.968465</td>\n",
       "      <td>0.953378</td>\n",
       "      <td>0.508269</td>\n",
       "      <td>0.937807</td>\n",
       "      <td>0.031604</td>\n",
       "    </tr>\n",
       "    <tr>\n",
       "      <th>1</th>\n",
       "      <td>GridSearchCV</td>\n",
       "      <td>{'C': 1e-05, 'penalty': 'l2'}</td>\n",
       "      <td>0.859083</td>\n",
       "      <td>0.983884</td>\n",
       "      <td>0.983936</td>\n",
       "      <td>0.859082</td>\n",
       "      <td>0.968298</td>\n",
       "      <td>0.968145</td>\n",
       "      <td>0.953274</td>\n",
       "      <td>0.508848</td>\n",
       "      <td>0.937622</td>\n",
       "      <td>0.031702</td>\n",
       "      <td>0.968396</td>\n",
       "      <td>0.968465</td>\n",
       "      <td>0.953378</td>\n",
       "      <td>0.508269</td>\n",
       "      <td>0.937807</td>\n",
       "      <td>0.031604</td>\n",
       "    </tr>\n",
       "    <tr>\n",
       "      <th>2</th>\n",
       "      <td>GridSearchCV</td>\n",
       "      <td>{'C': 1e-05, 'penalty': 'none'}</td>\n",
       "      <td>0.859083</td>\n",
       "      <td>0.983884</td>\n",
       "      <td>0.983936</td>\n",
       "      <td>0.859082</td>\n",
       "      <td>0.968298</td>\n",
       "      <td>0.968145</td>\n",
       "      <td>0.953274</td>\n",
       "      <td>0.508848</td>\n",
       "      <td>0.937622</td>\n",
       "      <td>0.031702</td>\n",
       "      <td>0.968396</td>\n",
       "      <td>0.968465</td>\n",
       "      <td>0.953378</td>\n",
       "      <td>0.508269</td>\n",
       "      <td>0.937807</td>\n",
       "      <td>0.031604</td>\n",
       "    </tr>\n",
       "    <tr>\n",
       "      <th>3</th>\n",
       "      <td>GridSearchCV</td>\n",
       "      <td>{'C': 1e-05, 'class_weight': 'none', 'penalty'...</td>\n",
       "      <td>0.859083</td>\n",
       "      <td>0.983884</td>\n",
       "      <td>0.983936</td>\n",
       "      <td>0.859082</td>\n",
       "      <td>0.968298</td>\n",
       "      <td>0.968145</td>\n",
       "      <td>0.953274</td>\n",
       "      <td>0.508848</td>\n",
       "      <td>0.937622</td>\n",
       "      <td>0.031702</td>\n",
       "      <td>0.968396</td>\n",
       "      <td>0.968465</td>\n",
       "      <td>0.953378</td>\n",
       "      <td>0.508269</td>\n",
       "      <td>0.937807</td>\n",
       "      <td>0.031604</td>\n",
       "    </tr>\n",
       "    <tr>\n",
       "      <th>4</th>\n",
       "      <td>GridSearchCV</td>\n",
       "      <td>{'C': 1e-05, 'class_weight': 'balanced', 'pena...</td>\n",
       "      <td>0.000000</td>\n",
       "      <td>0.000000</td>\n",
       "      <td>0.000000</td>\n",
       "      <td>0.000000</td>\n",
       "      <td>1.000000</td>\n",
       "      <td>0.032252</td>\n",
       "      <td>0.062489</td>\n",
       "      <td>0.500000</td>\n",
       "      <td>0.032252</td>\n",
       "      <td>0.967748</td>\n",
       "      <td>1.000000</td>\n",
       "      <td>0.032120</td>\n",
       "      <td>0.062240</td>\n",
       "      <td>0.500000</td>\n",
       "      <td>0.032120</td>\n",
       "      <td>0.967880</td>\n",
       "    </tr>\n",
       "    <tr>\n",
       "      <th>5</th>\n",
       "      <td>GridSearchCV</td>\n",
       "      <td>{'C': 0.01, 'penalty': 'l1', 'solver': 'liblin...</td>\n",
       "      <td>0.861858</td>\n",
       "      <td>0.980864</td>\n",
       "      <td>0.981059</td>\n",
       "      <td>0.861751</td>\n",
       "      <td>0.962529</td>\n",
       "      <td>0.945757</td>\n",
       "      <td>0.952617</td>\n",
       "      <td>0.530259</td>\n",
       "      <td>0.933194</td>\n",
       "      <td>0.037471</td>\n",
       "      <td>0.962904</td>\n",
       "      <td>0.946179</td>\n",
       "      <td>0.952951</td>\n",
       "      <td>0.530515</td>\n",
       "      <td>0.933693</td>\n",
       "      <td>0.037096</td>\n",
       "    </tr>\n",
       "    <tr>\n",
       "      <th>6</th>\n",
       "      <td>GridSearchCV</td>\n",
       "      <td>{'C': 0.001, 'penalty': 'l1', 'solver': 'libli...</td>\n",
       "      <td>0.861506</td>\n",
       "      <td>0.982170</td>\n",
       "      <td>0.982190</td>\n",
       "      <td>0.861474</td>\n",
       "      <td>0.965029</td>\n",
       "      <td>0.947314</td>\n",
       "      <td>0.953521</td>\n",
       "      <td>0.525747</td>\n",
       "      <td>0.935432</td>\n",
       "      <td>0.034971</td>\n",
       "      <td>0.965065</td>\n",
       "      <td>0.947191</td>\n",
       "      <td>0.953564</td>\n",
       "      <td>0.524841</td>\n",
       "      <td>0.935538</td>\n",
       "      <td>0.034935</td>\n",
       "    </tr>\n",
       "  </tbody>\n",
       "</table>\n",
       "</div>"
      ],
      "text/plain": [
       "     Classifier                                    Best Parameters  \\\n",
       "0  GridSearchCV                     {'C': 0.0001, 'penalty': 'l2'}   \n",
       "1  GridSearchCV                      {'C': 1e-05, 'penalty': 'l2'}   \n",
       "2  GridSearchCV                    {'C': 1e-05, 'penalty': 'none'}   \n",
       "3  GridSearchCV  {'C': 1e-05, 'class_weight': 'none', 'penalty'...   \n",
       "4  GridSearchCV  {'C': 1e-05, 'class_weight': 'balanced', 'pena...   \n",
       "5  GridSearchCV  {'C': 0.01, 'penalty': 'l1', 'solver': 'liblin...   \n",
       "6  GridSearchCV  {'C': 0.001, 'penalty': 'l1', 'solver': 'libli...   \n",
       "\n",
       "   Accuracy (train)  Accuracy (val)  Accuracy (test)  CV Accuracy  \\\n",
       "0          0.859083        0.983884         0.983936     0.859082   \n",
       "1          0.859083        0.983884         0.983936     0.859082   \n",
       "2          0.859083        0.983884         0.983936     0.859082   \n",
       "3          0.859083        0.983884         0.983936     0.859082   \n",
       "4          0.000000        0.000000         0.000000     0.000000   \n",
       "5          0.861858        0.980864         0.981059     0.861751   \n",
       "6          0.861506        0.982170         0.982190     0.861474   \n",
       "\n",
       "   Recall (val)  Precision (val)  F1-score (val)  AUC-ROC (val)  \\\n",
       "0      0.968298         0.968145        0.953274       0.508848   \n",
       "1      0.968298         0.968145        0.953274       0.508848   \n",
       "2      0.968298         0.968145        0.953274       0.508848   \n",
       "3      0.968298         0.968145        0.953274       0.508848   \n",
       "4      1.000000         0.032252        0.062489       0.500000   \n",
       "5      0.962529         0.945757        0.952617       0.530259   \n",
       "6      0.965029         0.947314        0.953521       0.525747   \n",
       "\n",
       "   Jacard score (val)  Hamming Loss (val)  Recall (test)  Precision (test)  \\\n",
       "0            0.937622            0.031702       0.968396          0.968465   \n",
       "1            0.937622            0.031702       0.968396          0.968465   \n",
       "2            0.937622            0.031702       0.968396          0.968465   \n",
       "3            0.937622            0.031702       0.968396          0.968465   \n",
       "4            0.032252            0.967748       1.000000          0.032120   \n",
       "5            0.933194            0.037471       0.962904          0.946179   \n",
       "6            0.935432            0.034971       0.965065          0.947191   \n",
       "\n",
       "   F1-score (test)  AUC-ROC (test)  Jacard score (test)  Hamming Loss (test)  \n",
       "0         0.953378        0.508269             0.937807             0.031604  \n",
       "1         0.953378        0.508269             0.937807             0.031604  \n",
       "2         0.953378        0.508269             0.937807             0.031604  \n",
       "3         0.953378        0.508269             0.937807             0.031604  \n",
       "4         0.062240        0.500000             0.032120             0.967880  \n",
       "5         0.952951        0.530515             0.933693             0.037096  \n",
       "6         0.953564        0.524841             0.935538             0.034935  "
      ]
     },
     "execution_count": 27,
     "metadata": {},
     "output_type": "execute_result"
    }
   ],
   "source": [
    "model_benchmark"
   ]
  },
  {
   "cell_type": "code",
   "execution_count": 28,
   "metadata": {},
   "outputs": [],
   "source": [
    "model_benchmark.to_csv(\"../assets/model_performance/01_logistic_regression_model_performance.csv\", index=False)"
   ]
  },
  {
   "cell_type": "code",
   "execution_count": null,
   "metadata": {},
   "outputs": [],
   "source": []
  },
  {
   "cell_type": "markdown",
   "metadata": {},
   "source": [
    "### Model 2: Linear SVC"
   ]
  },
  {
   "cell_type": "code",
   "execution_count": 30,
   "metadata": {},
   "outputs": [],
   "source": [
    "if Path(\"../assets/model_performance/02_linear_SVC_model_performance.csv\").is_file():\n",
    "    model_benchmark = pd.read_csv(linear_SVC_model_benchmark_file_path)\n",
    "else:\n",
    "    model_benchmark = pd.DataFrame(columns=['Classifier', 'Best Parameters', 'Accuracy (train)', 'Accuracy (val)', 'Accuracy (test)', 'CV Accuracy', \n",
    "                                    'Recall (val)', 'Precision (val)', 'F1-score (val)', 'AUC-ROC (val)', 'Jacard score (val)', 'Hamming Loss (val)',\n",
    "                                    'Recall (test)', 'Precision (test)', 'F1-score (test)', 'AUC-ROC (test)', 'Jacard score (test)', 'Hamming Loss (test)'\n",
    "                                   ])"
   ]
  },
  {
   "cell_type": "code",
   "execution_count": 31,
   "metadata": {},
   "outputs": [
    {
     "data": {
      "text/html": [
       "<div>\n",
       "<style scoped>\n",
       "    .dataframe tbody tr th:only-of-type {\n",
       "        vertical-align: middle;\n",
       "    }\n",
       "\n",
       "    .dataframe tbody tr th {\n",
       "        vertical-align: top;\n",
       "    }\n",
       "\n",
       "    .dataframe thead th {\n",
       "        text-align: right;\n",
       "    }\n",
       "</style>\n",
       "<table border=\"1\" class=\"dataframe\">\n",
       "  <thead>\n",
       "    <tr style=\"text-align: right;\">\n",
       "      <th></th>\n",
       "      <th>Classifier</th>\n",
       "      <th>Best Parameters</th>\n",
       "      <th>Accuracy (train)</th>\n",
       "      <th>Accuracy (val)</th>\n",
       "      <th>Accuracy (test)</th>\n",
       "      <th>CV Accuracy</th>\n",
       "      <th>Recall (val)</th>\n",
       "      <th>Precision (val)</th>\n",
       "      <th>F1-score (val)</th>\n",
       "      <th>AUC-ROC (val)</th>\n",
       "      <th>Jacard score (val)</th>\n",
       "      <th>Hamming Loss (val)</th>\n",
       "      <th>Recall (test)</th>\n",
       "      <th>Precision (test)</th>\n",
       "      <th>F1-score (test)</th>\n",
       "      <th>AUC-ROC (test)</th>\n",
       "      <th>Jacard score (test)</th>\n",
       "      <th>Hamming Loss (test)</th>\n",
       "    </tr>\n",
       "  </thead>\n",
       "  <tbody>\n",
       "  </tbody>\n",
       "</table>\n",
       "</div>"
      ],
      "text/plain": [
       "Empty DataFrame\n",
       "Columns: [Classifier, Best Parameters, Accuracy (train), Accuracy (val), Accuracy (test), CV Accuracy, Recall (val), Precision (val), F1-score (val), AUC-ROC (val), Jacard score (val), Hamming Loss (val), Recall (test), Precision (test), F1-score (test), AUC-ROC (test), Jacard score (test), Hamming Loss (test)]\n",
       "Index: []"
      ]
     },
     "execution_count": 31,
     "metadata": {},
     "output_type": "execute_result"
    }
   ],
   "source": [
    "model_benchmark"
   ]
  },
  {
   "cell_type": "code",
   "execution_count": 36,
   "metadata": {},
   "outputs": [
    {
     "name": "stdout",
     "output_type": "stream",
     "text": [
      "Fitting 5 folds for each of 5 candidates, totalling 25 fits\n"
     ]
    },
    {
     "name": "stderr",
     "output_type": "stream",
     "text": [
      "[Parallel(n_jobs=-1)]: Using backend LokyBackend with 8 concurrent workers.\n",
      "[Parallel(n_jobs=-1)]: Done  25 out of  25 | elapsed:  7.7min finished\n",
      "/home/karma/anaconda3/lib/python3.7/site-packages/sklearn/utils/validation.py:73: DataConversionWarning: A column-vector y was passed when a 1d array was expected. Please change the shape of y to (n_samples, ), for example using ravel().\n",
      "  return f(**kwargs)\n",
      "/home/karma/anaconda3/lib/python3.7/site-packages/sklearn/svm/_base.py:977: ConvergenceWarning: Liblinear failed to converge, increase the number of iterations.\n",
      "  \"the number of iterations.\", ConvergenceWarning)\n"
     ]
    },
    {
     "name": "stdout",
     "output_type": "stream",
     "text": [
      "-----------------------------------------------\n",
      "Fitting 5 folds for each of 5 candidates, totalling 25 fits\n"
     ]
    },
    {
     "name": "stderr",
     "output_type": "stream",
     "text": [
      "[Parallel(n_jobs=-1)]: Using backend LokyBackend with 8 concurrent workers.\n",
      "[Parallel(n_jobs=-1)]: Done  25 out of  25 | elapsed:  5.7min finished\n",
      "/home/karma/anaconda3/lib/python3.7/site-packages/sklearn/utils/validation.py:73: DataConversionWarning: A column-vector y was passed when a 1d array was expected. Please change the shape of y to (n_samples, ), for example using ravel().\n",
      "  return f(**kwargs)\n",
      "/home/karma/anaconda3/lib/python3.7/site-packages/sklearn/svm/_base.py:977: ConvergenceWarning: Liblinear failed to converge, increase the number of iterations.\n",
      "  \"the number of iterations.\", ConvergenceWarning)\n",
      "[Parallel(n_jobs=-1)]: Using backend LokyBackend with 8 concurrent workers.\n"
     ]
    },
    {
     "name": "stdout",
     "output_type": "stream",
     "text": [
      "Fitting 5 folds for each of 5 candidates, totalling 25 fits\n"
     ]
    },
    {
     "name": "stderr",
     "output_type": "stream",
     "text": [
      "[Parallel(n_jobs=-1)]: Done  25 out of  25 | elapsed:  5.9min finished\n",
      "/home/karma/anaconda3/lib/python3.7/site-packages/sklearn/utils/validation.py:73: DataConversionWarning: A column-vector y was passed when a 1d array was expected. Please change the shape of y to (n_samples, ), for example using ravel().\n",
      "  return f(**kwargs)\n",
      "/home/karma/anaconda3/lib/python3.7/site-packages/sklearn/svm/_base.py:977: ConvergenceWarning: Liblinear failed to converge, increase the number of iterations.\n",
      "  \"the number of iterations.\", ConvergenceWarning)\n",
      "[Parallel(n_jobs=-1)]: Using backend LokyBackend with 8 concurrent workers.\n"
     ]
    },
    {
     "name": "stdout",
     "output_type": "stream",
     "text": [
      "Fitting 5 folds for each of 5 candidates, totalling 25 fits\n"
     ]
    },
    {
     "name": "stderr",
     "output_type": "stream",
     "text": [
      "[Parallel(n_jobs=-1)]: Done  25 out of  25 | elapsed:  5.9min finished\n",
      "/home/karma/anaconda3/lib/python3.7/site-packages/sklearn/utils/validation.py:73: DataConversionWarning: A column-vector y was passed when a 1d array was expected. Please change the shape of y to (n_samples, ), for example using ravel().\n",
      "  return f(**kwargs)\n",
      "/home/karma/anaconda3/lib/python3.7/site-packages/sklearn/svm/_base.py:977: ConvergenceWarning: Liblinear failed to converge, increase the number of iterations.\n",
      "  \"the number of iterations.\", ConvergenceWarning)\n",
      "[Parallel(n_jobs=-1)]: Using backend LokyBackend with 8 concurrent workers.\n"
     ]
    },
    {
     "name": "stdout",
     "output_type": "stream",
     "text": [
      "Fitting 5 folds for each of 5 candidates, totalling 25 fits\n"
     ]
    },
    {
     "name": "stderr",
     "output_type": "stream",
     "text": [
      "[Parallel(n_jobs=-1)]: Done  25 out of  25 | elapsed:  6.3min finished\n",
      "/home/karma/anaconda3/lib/python3.7/site-packages/sklearn/utils/validation.py:73: DataConversionWarning: A column-vector y was passed when a 1d array was expected. Please change the shape of y to (n_samples, ), for example using ravel().\n",
      "  return f(**kwargs)\n",
      "/home/karma/anaconda3/lib/python3.7/site-packages/sklearn/svm/_base.py:977: ConvergenceWarning: Liblinear failed to converge, increase the number of iterations.\n",
      "  \"the number of iterations.\", ConvergenceWarning)\n",
      "[Parallel(n_jobs=-1)]: Using backend LokyBackend with 8 concurrent workers.\n"
     ]
    },
    {
     "name": "stdout",
     "output_type": "stream",
     "text": [
      "Fitting 5 folds for each of 5 candidates, totalling 25 fits\n"
     ]
    },
    {
     "name": "stderr",
     "output_type": "stream",
     "text": [
      "[Parallel(n_jobs=-1)]: Done  25 out of  25 | elapsed:  6.4min finished\n",
      "/home/karma/anaconda3/lib/python3.7/site-packages/sklearn/utils/validation.py:73: DataConversionWarning: A column-vector y was passed when a 1d array was expected. Please change the shape of y to (n_samples, ), for example using ravel().\n",
      "  return f(**kwargs)\n",
      "/home/karma/anaconda3/lib/python3.7/site-packages/sklearn/svm/_base.py:977: ConvergenceWarning: Liblinear failed to converge, increase the number of iterations.\n",
      "  \"the number of iterations.\", ConvergenceWarning)\n"
     ]
    }
   ],
   "source": [
    "# parameters for Gridsearch\n",
    "\n",
    "SVC_params = {\n",
    "    'penalty' : ['l2'],\n",
    "    'C': np.linspace(0.000001,0.0001,5),\n",
    "    'loss': ['hinge']\n",
    "    \n",
    "}\n",
    "\n",
    "SVC = LinearSVC(random_state=0, tol=1e-05)\n",
    "\n",
    "SVC_GS = GridSearchCV(SVC, SVC_params, scoring='f1', cv=5, verbose=True, n_jobs=-1)\n",
    "\n",
    "SVC_GS.fit(X_train_balanced, y_train_balanced)\n",
    "\n",
    "y_pred_val = SVC_GS.predict(X_val)\n",
    "y_pred_test = SVC_GS.predict(X_test)\n",
    "\n",
    "\n",
    "# Add to the history\n",
    "evaluation_result = evaluate_model(clf=SVC_GS, \n",
    "                       X_train = X_train_balanced, \n",
    "                       y_train = y_train_balanced,\n",
    "                       X_val = X_val,\n",
    "                       y_val = y_val,\n",
    "                       X_test = X_test, \n",
    "                       y_test = y_test,\n",
    "                       y_pred_val = y_pred_val, \n",
    "                       y_pred_test = y_pred_test)"
   ]
  },
  {
   "cell_type": "code",
   "execution_count": 37,
   "metadata": {},
   "outputs": [],
   "source": [
    "model_benchmark = model_benchmark.append(evaluation_result, ignore_index=True)\n"
   ]
  },
  {
   "cell_type": "code",
   "execution_count": 38,
   "metadata": {},
   "outputs": [
    {
     "data": {
      "text/html": [
       "<div>\n",
       "<style scoped>\n",
       "    .dataframe tbody tr th:only-of-type {\n",
       "        vertical-align: middle;\n",
       "    }\n",
       "\n",
       "    .dataframe tbody tr th {\n",
       "        vertical-align: top;\n",
       "    }\n",
       "\n",
       "    .dataframe thead th {\n",
       "        text-align: right;\n",
       "    }\n",
       "</style>\n",
       "<table border=\"1\" class=\"dataframe\">\n",
       "  <thead>\n",
       "    <tr style=\"text-align: right;\">\n",
       "      <th></th>\n",
       "      <th>Classifier</th>\n",
       "      <th>Best Parameters</th>\n",
       "      <th>Accuracy (train)</th>\n",
       "      <th>Accuracy (val)</th>\n",
       "      <th>Accuracy (test)</th>\n",
       "      <th>CV Accuracy</th>\n",
       "      <th>Recall (val)</th>\n",
       "      <th>Precision (val)</th>\n",
       "      <th>F1-score (val)</th>\n",
       "      <th>AUC-ROC (val)</th>\n",
       "      <th>Jacard score (val)</th>\n",
       "      <th>Hamming Loss (val)</th>\n",
       "      <th>Recall (test)</th>\n",
       "      <th>Precision (test)</th>\n",
       "      <th>F1-score (test)</th>\n",
       "      <th>AUC-ROC (test)</th>\n",
       "      <th>Jacard score (test)</th>\n",
       "      <th>Hamming Loss (test)</th>\n",
       "    </tr>\n",
       "  </thead>\n",
       "  <tbody>\n",
       "    <tr>\n",
       "      <th>0</th>\n",
       "      <td>GridSearchCV</td>\n",
       "      <td>{'C': 0.00025075000000000005, 'loss': 'hinge',...</td>\n",
       "      <td>0.857699</td>\n",
       "      <td>0.982235</td>\n",
       "      <td>0.982307</td>\n",
       "      <td>0.342999</td>\n",
       "      <td>0.965107</td>\n",
       "      <td>0.941325</td>\n",
       "      <td>0.951451</td>\n",
       "      <td>0.506104</td>\n",
       "      <td>0.934418</td>\n",
       "      <td>0.034893</td>\n",
       "      <td>0.965245</td>\n",
       "      <td>0.941252</td>\n",
       "      <td>0.951577</td>\n",
       "      <td>0.505498</td>\n",
       "      <td>0.934642</td>\n",
       "      <td>0.034755</td>\n",
       "    </tr>\n",
       "    <tr>\n",
       "      <th>1</th>\n",
       "      <td>GridSearchCV</td>\n",
       "      <td>{'C': 0.0001, 'loss': 'hinge', 'penalty': 'l2'}</td>\n",
       "      <td>0.857746</td>\n",
       "      <td>0.982393</td>\n",
       "      <td>0.982452</td>\n",
       "      <td>0.171436</td>\n",
       "      <td>0.965411</td>\n",
       "      <td>0.941439</td>\n",
       "      <td>0.951545</td>\n",
       "      <td>0.505692</td>\n",
       "      <td>0.934683</td>\n",
       "      <td>0.034589</td>\n",
       "      <td>0.965523</td>\n",
       "      <td>0.941234</td>\n",
       "      <td>0.951642</td>\n",
       "      <td>0.504949</td>\n",
       "      <td>0.934875</td>\n",
       "      <td>0.034477</td>\n",
       "    </tr>\n",
       "  </tbody>\n",
       "</table>\n",
       "</div>"
      ],
      "text/plain": [
       "     Classifier                                    Best Parameters  \\\n",
       "0  GridSearchCV  {'C': 0.00025075000000000005, 'loss': 'hinge',...   \n",
       "1  GridSearchCV    {'C': 0.0001, 'loss': 'hinge', 'penalty': 'l2'}   \n",
       "\n",
       "   Accuracy (train)  Accuracy (val)  Accuracy (test)  CV Accuracy  \\\n",
       "0          0.857699        0.982235         0.982307     0.342999   \n",
       "1          0.857746        0.982393         0.982452     0.171436   \n",
       "\n",
       "   Recall (val)  Precision (val)  F1-score (val)  AUC-ROC (val)  \\\n",
       "0      0.965107         0.941325        0.951451       0.506104   \n",
       "1      0.965411         0.941439        0.951545       0.505692   \n",
       "\n",
       "   Jacard score (val)  Hamming Loss (val)  Recall (test)  Precision (test)  \\\n",
       "0            0.934418            0.034893       0.965245          0.941252   \n",
       "1            0.934683            0.034589       0.965523          0.941234   \n",
       "\n",
       "   F1-score (test)  AUC-ROC (test)  Jacard score (test)  Hamming Loss (test)  \n",
       "0         0.951577        0.505498             0.934642             0.034755  \n",
       "1         0.951642        0.504949             0.934875             0.034477  "
      ]
     },
     "execution_count": 38,
     "metadata": {},
     "output_type": "execute_result"
    }
   ],
   "source": [
    "model_benchmark"
   ]
  },
  {
   "cell_type": "code",
   "execution_count": 39,
   "metadata": {},
   "outputs": [
    {
     "data": {
      "text/plain": [
       "{'C': 0.0001, 'loss': 'hinge', 'penalty': 'l2'}"
      ]
     },
     "execution_count": 39,
     "metadata": {},
     "output_type": "execute_result"
    }
   ],
   "source": [
    "SVC_GS.best_params_"
   ]
  },
  {
   "cell_type": "code",
   "execution_count": 40,
   "metadata": {},
   "outputs": [],
   "source": [
    "model_benchmark.to_csv(\"../assets/model_performance/02_linear_SVC_model_performance.csv\", index=False)"
   ]
  },
  {
   "cell_type": "code",
   "execution_count": null,
   "metadata": {},
   "outputs": [],
   "source": []
  }
 ],
 "metadata": {
  "kernelspec": {
   "display_name": "Python 3",
   "language": "python",
   "name": "python3"
  },
  "language_info": {
   "codemirror_mode": {
    "name": "ipython",
    "version": 3
   },
   "file_extension": ".py",
   "mimetype": "text/x-python",
   "name": "python",
   "nbconvert_exporter": "python",
   "pygments_lexer": "ipython3",
   "version": "3.7.4"
  }
 },
 "nbformat": 4,
 "nbformat_minor": 4
}
